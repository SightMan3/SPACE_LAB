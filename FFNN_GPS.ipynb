{
 "cells": [
  {
   "cell_type": "code",
   "id": "initial_id",
   "metadata": {
    "collapsed": true,
    "ExecuteTime": {
     "end_time": "2024-07-10T07:17:03.443930Z",
     "start_time": "2024-07-10T07:16:57.208630Z"
    }
   },
   "source": [
    "import torch\n",
    "import torch.nn as nn\n",
    "import numpy as np\n",
    "from torch.utils.data import Dataset, DataLoader\n",
    "import matplotlib.pyplot as plt\n",
    "from sklearn.datasets import make_circles\n",
    "from sklearn.model_selection import train_test_split\n",
    "from sklearn.datasets import fetch_california_housing\n",
    "from sklearn.preprocessing import StandardScaler\n",
    "from tqdm.notebook import tqdm\n",
    "import copy"
   ],
   "execution_count": 1,
   "outputs": []
  },
  {
   "metadata": {},
   "cell_type": "markdown",
   "source": "# Generate Data with Gaussian Process signal",
   "id": "c3162d4360ecfe95"
  },
  {
   "metadata": {
    "ExecuteTime": {
     "end_time": "2024-07-10T07:17:03.712079Z",
     "start_time": "2024-07-10T07:17:03.445912Z"
    }
   },
   "cell_type": "code",
   "source": "import timesynth as ts",
   "id": "b743a51b56704a67",
   "execution_count": 2,
   "outputs": []
  },
  {
   "metadata": {
    "ExecuteTime": {
     "end_time": "2024-07-10T07:17:03.727138Z",
     "start_time": "2024-07-10T07:17:03.714086Z"
    }
   },
   "cell_type": "code",
   "source": [
    "def seasonal(t, amplitude, period):\n",
    "    \"\"\"Generate a sinusoidal curve.\"\"\"\n",
    "    return amplitude * np.sin((2*np.pi*t)/period)"
   ],
   "id": "40566dad1a59ac07",
   "execution_count": 3,
   "outputs": []
  },
  {
   "metadata": {
    "ExecuteTime": {
     "end_time": "2024-07-10T07:17:03.961003Z",
     "start_time": "2024-07-10T07:17:03.729087Z"
    }
   },
   "cell_type": "code",
   "source": [
    "n = 146 \n",
    "t0 = np.arange(146)\n",
    "\n",
    "epsilon = np.random.normal(loc=0, scale=1.0, size=146)\n",
    "s2 = seasonal(t0, 0.8, 30)\n",
    "s3 = np.exp(-((t0 - 40) / 10)**2) * 10\n",
    "\n",
    "Bz = s3 + s2 + epsilon\n",
    "\n",
    "plt.figure(figsize=(18, 5))\n",
    "plt.plot(t0, Bz)"
   ],
   "id": "1da0222c38b9cf32",
   "execution_count": 4,
   "outputs": []
  },
  {
   "metadata": {
    "ExecuteTime": {
     "end_time": "2024-07-10T07:17:04.149137Z",
     "start_time": "2024-07-10T07:17:03.962997Z"
    }
   },
   "cell_type": "code",
   "source": [
    "s4 = -np.exp(-((t0 - 40) / 10)**2) * 10\n",
    "DST = s4 + s2 + epsilon\n",
    "plt.figure(figsize=(18, 5))\n",
    "plt.plot(t0, DST)"
   ],
   "id": "853405788901675d",
   "execution_count": 5,
   "outputs": []
  },
  {
   "metadata": {},
   "cell_type": "markdown",
   "source": [
    "# Data Augmentation & Preparation\n",
    "Data normalization between [-1, 1]\n",
    "$$\n",
    "x^{''} = 2\\frac{x - \\text{min}(x)}{\\text{max}(x) - \\text{min}(x)} - 1\n",
    "$$"
   ],
   "id": "7dab24ade6f87633"
  },
  {
   "metadata": {
    "ExecuteTime": {
     "end_time": "2024-07-10T08:23:38.030449Z",
     "start_time": "2024-07-10T08:23:38.019799Z"
    }
   },
   "cell_type": "code",
   "source": [
    "def normalize(x):\n",
    "    return 2*((x - np.min(x)) / (np.max(x) - np.min(x))) - 1\n",
    "\n",
    "y_train = normalize(DST)\n",
    "x_train = normalize(Bz)"
   ],
   "id": "1d13945a05bc8eef",
   "execution_count": 97,
   "outputs": []
  },
  {
   "metadata": {
    "ExecuteTime": {
     "end_time": "2024-07-10T08:23:48.265566Z",
     "start_time": "2024-07-10T08:23:48.109693Z"
    }
   },
   "cell_type": "code",
   "source": [
    "plt.plot(t0, x_train)\n",
    "plt.plot(t0, y_train)"
   ],
   "id": "d6a9d77fe70f333e",
   "execution_count": 99,
   "outputs": []
  },
  {
   "metadata": {},
   "cell_type": "markdown",
   "source": "### 8h rolling window batch generation",
   "id": "e689d9284d15f2b1"
  },
  {
   "metadata": {
    "ExecuteTime": {
     "end_time": "2024-07-10T08:23:55.197359Z",
     "start_time": "2024-07-10T08:23:55.181875Z"
    }
   },
   "cell_type": "code",
   "source": [
    "def generate_batches(x, y):\n",
    "    '''\n",
    "    Function creates batches out of x data of size 8 hours,\n",
    "    8-hour window is moved throughout the array with step one hour,\n",
    "    and cuts first 8 hours out of y data, so that for every 8 hours of x data\n",
    "    there is one hour of y data hour ahead of input neurons data. \n",
    "    \n",
    "    Parameters\n",
    "    ----------\n",
    "    x - x training data (Bz, sigma_Bz, n, v...)\n",
    "    y - y training data (DST)\n",
    "\n",
    "    Returns\n",
    "    -------\n",
    "    batches - Matrix where rows correspond to 8 hours of x array data\n",
    "          y - y training data (DST) that has first 8 hours cut off\n",
    "    '''\n",
    "    \n",
    "    y = y[8:]\n",
    "    y = torch.from_numpy(np.array(y))\n",
    "    \n",
    "    batches = []\n",
    "    \n",
    "    for i in range(146):\n",
    "        if (i+8) <= 146:\n",
    "            # print(i, i+8)\n",
    "            batch = x[i:i+8]\n",
    "            batches.append(batch)\n",
    "    \n",
    "    batches = batches[:-1]\n",
    "    batches = torch.from_numpy(np.array(batches))\n",
    "    \n",
    "    return batches, y\n"
   ],
   "id": "a00aa028a2188fb2",
   "execution_count": 100,
   "outputs": []
  },
  {
   "metadata": {
    "ExecuteTime": {
     "end_time": "2024-07-10T08:23:55.494039Z",
     "start_time": "2024-07-10T08:23:55.484822Z"
    }
   },
   "cell_type": "code",
   "source": "x_train, y_train = generate_batches(x_train, y_train)",
   "id": "e2d06f3175c30d65",
   "execution_count": 101,
   "outputs": []
  },
  {
   "metadata": {
    "ExecuteTime": {
     "end_time": "2024-07-10T08:23:56.255145Z",
     "start_time": "2024-07-10T08:23:56.244909Z"
    }
   },
   "cell_type": "code",
   "source": "len(x_train), len(y_train), x_train.shape, y_train.shape",
   "id": "5cb68e9d51ab8da7",
   "execution_count": 102,
   "outputs": []
  },
  {
   "metadata": {},
   "cell_type": "code",
   "execution_count": null,
   "source": "",
   "id": "4a61499854511567",
   "outputs": []
  },
  {
   "metadata": {},
   "cell_type": "markdown",
   "source": "# FFNN",
   "id": "f0d5743a7bace778"
  },
  {
   "metadata": {
    "ExecuteTime": {
     "end_time": "2024-07-10T08:17:16.499566Z",
     "start_time": "2024-07-10T08:17:16.489399Z"
    }
   },
   "cell_type": "code",
   "source": [
    "model = nn.Sequential(\n",
    "    nn.Linear(8, 26),\n",
    "    nn.Tanh(),\n",
    "    nn.Linear(26,1),\n",
    ")"
   ],
   "id": "da6effbf11f77d2a",
   "execution_count": 86,
   "outputs": []
  },
  {
   "metadata": {
    "ExecuteTime": {
     "end_time": "2024-07-10T08:17:16.686494Z",
     "start_time": "2024-07-10T08:17:16.672174Z"
    }
   },
   "cell_type": "code",
   "source": [
    "alpha = 0.03\n",
    "n_epochs = 40\n",
    "\n",
    "loss_fn = nn.MSELoss()\n",
    "optim = torch.optim.Adam(model.parameters(), lr=alpha)\n",
    "\n",
    "best_mse = np.inf\n",
    "best_weights = None\n",
    "\n",
    "history = []"
   ],
   "id": "e71df71b147d93f0",
   "execution_count": 87,
   "outputs": []
  },
  {
   "metadata": {
    "ExecuteTime": {
     "end_time": "2024-07-10T08:24:03.116222Z",
     "start_time": "2024-07-10T08:23:59.206675Z"
    }
   },
   "cell_type": "code",
   "source": [
    "curr_loss = None\n",
    "for i in range(n_epochs):\n",
    "    model.train()\n",
    "    for batch, y in zip(x_train, y_train):\n",
    "        batch = batch.to(torch.float32)\n",
    "        y = y.to(torch.float32)\n",
    "\n",
    "        y_pred  = model(batch)\n",
    "        loss    = loss_fn(y_pred, y)\n",
    "        curr_loss = loss\n",
    "        \n",
    "        optim.zero_grad()\n",
    "        loss.backward()\n",
    "\n",
    "        optim.step()\n",
    "        \n",
    "    print(curr_loss)\n",
    "    history.append(curr_loss)"
   ],
   "id": "25691e561f068ea1",
   "execution_count": 103,
   "outputs": []
  },
  {
   "metadata": {
    "ExecuteTime": {
     "end_time": "2024-07-10T08:24:12.277132Z",
     "start_time": "2024-07-10T08:24:12.269Z"
    }
   },
   "cell_type": "code",
   "source": "model.eval()",
   "id": "be2774cbf79f578c",
   "execution_count": 104,
   "outputs": []
  },
  {
   "metadata": {
    "ExecuteTime": {
     "end_time": "2024-07-10T08:24:12.766195Z",
     "start_time": "2024-07-10T08:24:12.730907Z"
    }
   },
   "cell_type": "code",
   "source": [
    "preds = []\n",
    "for batch in x_train:\n",
    "    batch = batch.float()\n",
    "    preds.append(model(batch).detach().numpy())\n",
    "preds = np.array(preds)\n",
    "len(preds)"
   ],
   "id": "a2909e9935d39a97",
   "execution_count": 105,
   "outputs": []
  },
  {
   "metadata": {
    "ExecuteTime": {
     "end_time": "2024-07-10T08:24:13.811064Z",
     "start_time": "2024-07-10T08:24:13.633745Z"
    }
   },
   "cell_type": "code",
   "source": [
    "plt.plot(t0[8:], preds, label='prediction')\n",
    "plt.plot(t0[8:], y_train, label='real')\n",
    "plt.legend()"
   ],
   "id": "d4285d82ac191b7d",
   "execution_count": 106,
   "outputs": []
  },
  {
   "metadata": {
    "ExecuteTime": {
     "end_time": "2024-07-10T07:28:23.391874Z",
     "start_time": "2024-07-10T07:28:23.377364Z"
    }
   },
   "cell_type": "code",
   "source": "",
   "id": "e2c56c07e0d49089",
   "execution_count": 49,
   "outputs": []
  },
  {
   "metadata": {
    "ExecuteTime": {
     "end_time": "2024-07-10T07:28:35.506101Z",
     "start_time": "2024-07-10T07:28:35.499131Z"
    }
   },
   "cell_type": "code",
   "source": "",
   "id": "ac8c5d8e4acfe507",
   "execution_count": 50,
   "outputs": []
  },
  {
   "metadata": {},
   "cell_type": "code",
   "execution_count": null,
   "source": "",
   "id": "328fc7682863ed72",
   "outputs": []
  }
 ],
 "metadata": {
  "kernelspec": {
   "display_name": "Python 3",
   "language": "python",
   "name": "python3"
  },
  "language_info": {
   "codemirror_mode": {
    "name": "ipython",
    "version": 2
   },
   "file_extension": ".py",
   "mimetype": "text/x-python",
   "name": "python",
   "nbconvert_exporter": "python",
   "pygments_lexer": "ipython2",
   "version": "2.7.6"
  }
 },
 "nbformat": 4,
 "nbformat_minor": 5
}
